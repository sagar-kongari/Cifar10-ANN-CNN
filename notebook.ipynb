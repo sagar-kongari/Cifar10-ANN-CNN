{
 "cells": [
  {
   "attachments": {},
   "cell_type": "markdown",
   "metadata": {},
   "source": [
    "### 1. install and import dependencies"
   ]
  },
  {
   "cell_type": "code",
   "execution_count": 1,
   "metadata": {},
   "outputs": [],
   "source": [
    "import numpy as np\n",
    "import matplotlib.pyplot as plt\n",
    "\n",
    "from sklearn.metrics import confusion_matrix , classification_report\n",
    "\n",
    "import tensorflow as tf\n",
    "from tensorflow.keras import datasets\n",
    "from tensorflow.keras.models import Sequential\n",
    "from tensorflow.keras.layers import Conv2D, MaxPooling2D, Flatten, Dense"
   ]
  },
  {
   "attachments": {},
   "cell_type": "markdown",
   "metadata": {},
   "source": [
    "### 2. load dataset and pre-process"
   ]
  },
  {
   "cell_type": "code",
   "execution_count": 2,
   "metadata": {},
   "outputs": [],
   "source": [
    "# Loading data for first time will result in downloading the dataset. (~165 MB)\n",
    "(x_train, y_train), (x_test, y_test) = datasets.cifar10.load_data()"
   ]
  },
  {
   "cell_type": "code",
   "execution_count": 3,
   "metadata": {},
   "outputs": [
    {
     "data": {
      "text/plain": [
       "array([[6],\n",
       "       [9],\n",
       "       [9],\n",
       "       ...,\n",
       "       [9],\n",
       "       [1],\n",
       "       [1]], dtype=uint8)"
      ]
     },
     "execution_count": 3,
     "metadata": {},
     "output_type": "execute_result"
    }
   ],
   "source": [
    "y_train"
   ]
  },
  {
   "cell_type": "code",
   "execution_count": 4,
   "metadata": {},
   "outputs": [
    {
     "name": "stdout",
     "output_type": "stream",
     "text": [
      "(50000, 32, 32, 3) (50000, 1) \n",
      " (10000, 32, 32, 3) (10000, 1)\n"
     ]
    }
   ],
   "source": [
    "print(x_train.shape, y_train.shape,'\\n',x_test.shape, y_test.shape)"
   ]
  },
  {
   "cell_type": "code",
   "execution_count": 5,
   "metadata": {},
   "outputs": [
    {
     "data": {
      "image/png": "[encoded data removed]",
      "text/plain": [
       "<Figure size 600x600 with 4 Axes>"
      ]
     },
     "metadata": {},
     "output_type": "display_data"
    }
   ],
   "source": [
    "# visualize a sample of dataset\n",
    "fig, ax = plt.subplots(ncols=4, figsize=(6,6))\n",
    "for i in range(0,4):\n",
    "    ax[i].imshow(x_train[i])"
   ]
  },
  {
   "cell_type": "code",
   "execution_count": 6,
   "metadata": {},
   "outputs": [],
   "source": [
    "#Normalize the data. Pixel values range from 0 to 256, therefore, dividing by 255.\n",
    "x_train = x_train / 255.0\n",
    "x_test = x_test / 255.0"
   ]
  },
  {
   "cell_type": "code",
   "execution_count": 7,
   "metadata": {},
   "outputs": [
    {
     "name": "stdout",
     "output_type": "stream",
     "text": [
      "The normalized values range from 0.0 to 1.0\n"
     ]
    }
   ],
   "source": [
    "print(('The normalized values range from {} to {}').format(x_train.min(), x_train.max()))"
   ]
  },
  {
   "attachments": {},
   "cell_type": "markdown",
   "metadata": {},
   "source": [
    "### 3. Build and train the model"
   ]
  },
  {
   "attachments": {},
   "cell_type": "markdown",
   "metadata": {},
   "source": [
    "#### 3.1 ANN model"
   ]
  },
  {
   "cell_type": "code",
   "execution_count": 8,
   "metadata": {},
   "outputs": [],
   "source": [
    "# First, an artificial neural network (ANN)\n",
    "ann_model = Sequential()\n",
    "\n",
    "ann_model.add(Flatten(input_shape = (32,32,3)))\n",
    "ann_model.add(Dense(3000, activation= 'relu'))\n",
    "ann_model.add(Dense(1000, activation= 'relu'))\n",
    "ann_model.add(Dense(10, activation= 'softmax')) # \"softmax\" for multi-classs classification"
   ]
  },
  {
   "cell_type": "code",
   "execution_count": 9,
   "metadata": {},
   "outputs": [],
   "source": [
    "# compile the model using appropriate hyperparameters\n",
    "ann_model.compile(optimizer='SGD', loss='sparse_categorical_crossentropy', metrics=['accuracy'])"
   ]
  },
  {
   "cell_type": "code",
   "execution_count": 10,
   "metadata": {},
   "outputs": [
    {
     "name": "stdout",
     "output_type": "stream",
     "text": [
      "Model: \"sequential\"\n",
      "_________________________________________________________________\n",
      " Layer (type)                Output Shape              Param #   \n",
      "=================================================================\n",
      " flatten (Flatten)           (None, 3072)              0         \n",
      "                                                                 \n",
      " dense (Dense)               (None, 3000)              9219000   \n",
      "                                                                 \n",
      " dense_1 (Dense)             (None, 1000)              3001000   \n",
      "                                                                 \n",
      " dense_2 (Dense)             (None, 10)                10010     \n",
      "                                                                 \n",
      "=================================================================\n",
      "Total params: 12,230,010\n",
      "Trainable params: 12,230,010\n",
      "Non-trainable params: 0\n",
      "_________________________________________________________________\n"
     ]
    }
   ],
   "source": [
    "ann_model.summary()"
   ]
  },
  {
   "cell_type": "code",
   "execution_count": 11,
   "metadata": {},
   "outputs": [
    {
     "name": "stdout",
     "output_type": "stream",
     "text": [
      "Epoch 1/10\n",
      "1563/1563 [==============================] - 64s 40ms/step - loss: 1.8149 - accuracy: 0.3550\n",
      "Epoch 2/10\n",
      "1563/1563 [==============================] - 63s 40ms/step - loss: 1.6239 - accuracy: 0.4244\n",
      "Epoch 3/10\n",
      "1563/1563 [==============================] - 63s 40ms/step - loss: 1.5424 - accuracy: 0.4570\n",
      "Epoch 4/10\n",
      "1563/1563 [==============================] - 63s 40ms/step - loss: 1.4830 - accuracy: 0.4783\n",
      "Epoch 5/10\n",
      "1563/1563 [==============================] - 63s 40ms/step - loss: 1.4305 - accuracy: 0.4972\n",
      "Epoch 6/10\n",
      "1563/1563 [==============================] - 63s 41ms/step - loss: 1.3900 - accuracy: 0.5128\n",
      "Epoch 7/10\n",
      "1563/1563 [==============================] - 63s 40ms/step - loss: 1.3482 - accuracy: 0.5275\n",
      "Epoch 8/10\n",
      "1563/1563 [==============================] - 64s 41ms/step - loss: 1.3146 - accuracy: 0.5398\n",
      "Epoch 9/10\n",
      "1563/1563 [==============================] - 63s 40ms/step - loss: 1.2816 - accuracy: 0.5496\n",
      "Epoch 10/10\n",
      "1563/1563 [==============================] - 63s 41ms/step - loss: 1.2487 - accuracy: 0.5628\n"
     ]
    }
   ],
   "source": [
    "# fit model\n",
    "log = ann_model.fit(x_train, y_train, epochs=10)"
   ]
  },
  {
   "cell_type": "code",
   "execution_count": 12,
   "metadata": {},
   "outputs": [
    {
     "name": "stdout",
     "output_type": "stream",
     "text": [
      "313/313 [==============================] - 3s 9ms/step\n",
      "Classification Report: \n",
      "               precision    recall  f1-score   support\n",
      "\n",
      "           0       0.62      0.56      0.59      1000\n",
      "           1       0.56      0.77      0.65      1000\n",
      "           2       0.44      0.37      0.40      1000\n",
      "           3       0.41      0.25      0.31      1000\n",
      "           4       0.51      0.42      0.46      1000\n",
      "           5       0.35      0.61      0.44      1000\n",
      "           6       0.60      0.54      0.57      1000\n",
      "           7       0.63      0.56      0.59      1000\n",
      "           8       0.63      0.65      0.64      1000\n",
      "           9       0.57      0.52      0.54      1000\n",
      "\n",
      "    accuracy                           0.52     10000\n",
      "   macro avg       0.53      0.52      0.52     10000\n",
      "weighted avg       0.53      0.52      0.52     10000\n",
      "\n"
     ]
    }
   ],
   "source": [
    "y_pred = ann_model.predict(x_test)\n",
    "y_pred_classes = [np.argmax(element) for element in y_pred]\n",
    "\n",
    "print(\"Classification Report: \\n\", classification_report(y_test, y_pred_classes))"
   ]
  },
  {
   "attachments": {},
   "cell_type": "markdown",
   "metadata": {},
   "source": [
    "#### 3.2 CNN model"
   ]
  },
  {
   "cell_type": "code",
   "execution_count": 18,
   "metadata": {},
   "outputs": [],
   "source": [
    "# Build cnn model\n",
    "cnn_model = Sequential()\n",
    "\n",
    "cnn_model.add(Conv2D(filters=32, kernel_size=(3, 3), activation='relu', input_shape=(32, 32, 3)))\n",
    "cnn_model.add(MaxPooling2D((2, 2)))\n",
    "    \n",
    "cnn_model.add(Conv2D(filters=64, kernel_size=(3, 3), activation='relu'))\n",
    "cnn_model.add(MaxPooling2D((2, 2)))\n",
    "    \n",
    "cnn_model.add(Flatten())\n",
    "cnn_model.add(Dense(64, activation='relu'))\n",
    "cnn_model.add(Dense(10, activation='softmax')) # \"softmax\" for multi-classs classification"
   ]
  },
  {
   "cell_type": "code",
   "execution_count": 19,
   "metadata": {},
   "outputs": [],
   "source": [
    "cnn_model.compile(optimizer='adam', loss='sparse_categorical_crossentropy', metrics=['accuracy'])"
   ]
  },
  {
   "cell_type": "code",
   "execution_count": 20,
   "metadata": {},
   "outputs": [
    {
     "name": "stdout",
     "output_type": "stream",
     "text": [
      "Model: \"sequential_2\"\n",
      "_________________________________________________________________\n",
      " Layer (type)                Output Shape              Param #   \n",
      "=================================================================\n",
      " conv2d_3 (Conv2D)           (None, 30, 30, 32)        896       \n",
      "                                                                 \n",
      " max_pooling2d_3 (MaxPooling  (None, 15, 15, 32)       0         \n",
      " 2D)                                                             \n",
      "                                                                 \n",
      " conv2d_4 (Conv2D)           (None, 13, 13, 64)        18496     \n",
      "                                                                 \n",
      " max_pooling2d_4 (MaxPooling  (None, 6, 6, 64)         0         \n",
      " 2D)                                                             \n",
      "                                                                 \n",
      " flatten_2 (Flatten)         (None, 2304)              0         \n",
      "                                                                 \n",
      " dense_5 (Dense)             (None, 64)                147520    \n",
      "                                                                 \n",
      " dense_6 (Dense)             (None, 10)                650       \n",
      "                                                                 \n",
      "=================================================================\n",
      "Total params: 167,562\n",
      "Trainable params: 167,562\n",
      "Non-trainable params: 0\n",
      "_________________________________________________________________\n"
     ]
    }
   ],
   "source": [
    "cnn_model.summary()"
   ]
  },
  {
   "cell_type": "code",
   "execution_count": 21,
   "metadata": {},
   "outputs": [
    {
     "name": "stdout",
     "output_type": "stream",
     "text": [
      "Epoch 1/10\n",
      "1563/1563 [==============================] - 50s 30ms/step - loss: 1.4755 - accuracy: 0.4709\n",
      "Epoch 2/10\n",
      "1563/1563 [==============================] - 47s 30ms/step - loss: 1.1219 - accuracy: 0.6094\n",
      "Epoch 3/10\n",
      "1563/1563 [==============================] - 46s 30ms/step - loss: 0.9887 - accuracy: 0.6567\n",
      "Epoch 4/10\n",
      "1563/1563 [==============================] - 46s 29ms/step - loss: 0.9106 - accuracy: 0.6867\n",
      "Epoch 5/10\n",
      "1563/1563 [==============================] - 64s 41ms/step - loss: 0.8525 - accuracy: 0.7054\n",
      "Epoch 6/10\n",
      "1563/1563 [==============================] - 71s 46ms/step - loss: 0.8039 - accuracy: 0.7216\n",
      "Epoch 7/10\n",
      "1563/1563 [==============================] - 73s 47ms/step - loss: 0.7605 - accuracy: 0.7360\n",
      "Epoch 8/10\n",
      "1563/1563 [==============================] - 69s 44ms/step - loss: 0.7230 - accuracy: 0.7496\n",
      "Epoch 9/10\n",
      "1563/1563 [==============================] - 68s 44ms/step - loss: 0.6848 - accuracy: 0.7623\n",
      "Epoch 10/10\n",
      "1563/1563 [==============================] - 79s 51ms/step - loss: 0.6502 - accuracy: 0.7732\n"
     ]
    }
   ],
   "source": [
    "cnn_log = cnn_model.fit(x_train, y_train, epochs=10)"
   ]
  },
  {
   "cell_type": "code",
   "execution_count": 22,
   "metadata": {},
   "outputs": [
    {
     "name": "stdout",
     "output_type": "stream",
     "text": [
      "313/313 [==============================] - 5s 17ms/step\n",
      "Classification Report: \n",
      "               precision    recall  f1-score   support\n",
      "\n",
      "           0       0.75      0.73      0.74      1000\n",
      "           1       0.84      0.81      0.82      1000\n",
      "           2       0.63      0.55      0.58      1000\n",
      "           3       0.47      0.59      0.52      1000\n",
      "           4       0.71      0.53      0.61      1000\n",
      "           5       0.62      0.58      0.60      1000\n",
      "           6       0.61      0.87      0.72      1000\n",
      "           7       0.82      0.67      0.74      1000\n",
      "           8       0.80      0.81      0.81      1000\n",
      "           9       0.81      0.78      0.79      1000\n",
      "\n",
      "    accuracy                           0.69     10000\n",
      "   macro avg       0.71      0.69      0.69     10000\n",
      "weighted avg       0.71      0.69      0.69     10000\n",
      "\n"
     ]
    }
   ],
   "source": [
    "y_pred = cnn_model.predict(x_test)\n",
    "y_pred_classes = [np.argmax(element) for element in y_pred]\n",
    "\n",
    "print(\"Classification Report: \\n\", classification_report(y_test, y_pred_classes))"
   ]
  },
  {
   "attachments": {},
   "cell_type": "markdown",
   "metadata": {},
   "source": [
    "1. ANN performed poorly on images with an accuracy of ~56% where as CNN performed decent enough with an accuracy of ~77%.\n",
    "2. It's clear that convolutional neural network performs better than artificial neural networks in the classification of images."
   ]
  }
 ],
 "metadata": {
  "kernelspec": {
   "display_name": "base",
   "language": "python",
   "name": "python3"
  },
  "language_info": {
   "codemirror_mode": {
    "name": "ipython",
    "version": 3
   },
   "file_extension": ".py",
   "mimetype": "text/x-python",
   "name": "python",
   "nbconvert_exporter": "python",
   "pygments_lexer": "ipython3",
   "version": "3.8.16"
  },
  "orig_nbformat": 4
 },
 "nbformat": 4,
 "nbformat_minor": 2
}
